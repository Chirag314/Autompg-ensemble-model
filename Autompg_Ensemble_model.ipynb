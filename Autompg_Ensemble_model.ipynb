{
  "nbformat": 4,
  "nbformat_minor": 0,
  "metadata": {
    "colab": {
      "provenance": [],
      "authorship_tag": "ABX9TyPAQmIZcCtCx4ra2mlKkMux",
      "include_colab_link": true
    },
    "kernelspec": {
      "name": "python3",
      "display_name": "Python 3"
    },
    "language_info": {
      "name": "python"
    }
  },
  "cells": [
    {
      "cell_type": "markdown",
      "metadata": {
        "id": "view-in-github",
        "colab_type": "text"
      },
      "source": [
        "<a href=\"https://colab.research.google.com/github/Chirag314/Autompg-ensemble-model/blob/main/Autompg_Ensemble_model.ipynb\" target=\"_parent\"><img src=\"https://colab.research.google.com/assets/colab-badge.svg\" alt=\"Open In Colab\"/></a>"
      ]
    },
    {
      "cell_type": "markdown",
      "source": [
        "###This notebook is copied from exercises from book Ensemble Machine Learning Cookbook."
      ],
      "metadata": {
        "id": "de3ggC8Kv_99"
      }
    },
    {
      "cell_type": "code",
      "source": [
        "#import required libraries\n",
        "from sklearn.linear_model import LinearRegression\n",
        "from sklearn.tree import DecisionTreeRegressor\n",
        "from sklearn.svm import SVR\n",
        "from sklearn.tree import DecisionTreeClassifier\n",
        "from sklearn.svm import SVC\n",
        "from sklearn.linear_model import LogisticRegression\n",
        "from sklearn.ensemble import VotingClassifier\n",
        "from sklearn.model_selection import KFold\n",
        "from sklearn.metrics import mean_squared_error, r2_score\n",
        "import numpy as np\n",
        "import matplotlib.pyplot as plt"
      ],
      "metadata": {
        "id": "CWjW7ISB-O8s"
      },
      "execution_count": 13,
      "outputs": []
    },
    {
      "cell_type": "code",
      "execution_count": 14,
      "metadata": {
        "colab": {
          "base_uri": "https://localhost:8080/"
        },
        "id": "rror9ooAv2jU",
        "outputId": "42d131f0-8e7b-4d68-dfd3-d905c2388434"
      },
      "outputs": [
        {
          "output_type": "stream",
          "name": "stdout",
          "text": [
            "    mpg  cylinders  displacement  horsepower  weight  acceleration  \\\n",
            "0  18.0          8         307.0       130.0    3504          12.0   \n",
            "1  15.0          8         350.0       165.0    3693          11.5   \n",
            "2  18.0          8         318.0       150.0    3436          11.0   \n",
            "3  16.0          8         304.0       150.0    3433          12.0   \n",
            "4  17.0          8         302.0       140.0    3449          10.5   \n",
            "\n",
            "   model year  origin                    carname  \n",
            "0          70       1  chevrolet chevelle malibu  \n",
            "1          70       1          buick skylark 320  \n",
            "2          70       1         plymouth satellite  \n",
            "3          70       1              amc rebel sst  \n",
            "4          70       1                ford torino  \n"
          ]
        }
      ],
      "source": [
        "# Read data from github. Use raw format and copy url# Note normal url and raw url will be different.\n",
        "import pandas as pd\n",
        "pd.options.display.max_rows=None\n",
        "pd.options.display.max_columns=None\n",
        "url = 'https://raw.githubusercontent.com/PacktPublishing/Ensemble-Machine-Learning-Cookbook/master/Chapter03/autompg.csv'\n",
        "df_autodata = pd.read_csv(url)\n",
        "#df = pd.read_csv(url)\n",
        "print(df_autodata.head(5))"
      ]
    },
    {
      "cell_type": "code",
      "source": [
        "#Check the shape of data\n",
        "df_autodata.shape"
      ],
      "metadata": {
        "colab": {
          "base_uri": "https://localhost:8080/"
        },
        "id": "ZOITXNiM0fUc",
        "outputId": "4ed18407-2a74-48ec-9c03-a513e2583c4d"
      },
      "execution_count": 15,
      "outputs": [
        {
          "output_type": "execute_result",
          "data": {
            "text/plain": [
              "(398, 9)"
            ]
          },
          "metadata": {},
          "execution_count": 15
        }
      ]
    },
    {
      "cell_type": "code",
      "source": [
        "# Check for missing values.\n",
        "df_autodata.isnull().sum()"
      ],
      "metadata": {
        "colab": {
          "base_uri": "https://localhost:8080/"
        },
        "id": "G_9ncE1O0o2C",
        "outputId": "d9df8427-de5b-4cdb-ba8b-8b0adf76dedc"
      },
      "execution_count": 16,
      "outputs": [
        {
          "output_type": "execute_result",
          "data": {
            "text/plain": [
              "mpg             0\n",
              "cylinders       0\n",
              "displacement    0\n",
              "horsepower      6\n",
              "weight          0\n",
              "acceleration    0\n",
              "model year      0\n",
              "origin          0\n",
              "carname         0\n",
              "dtype: int64"
            ]
          },
          "metadata": {},
          "execution_count": 16
        }
      ]
    },
    {
      "cell_type": "markdown",
      "source": [
        "#####Here, we can see that there are missing values in data. Impute missing values with median.Now separate predictor and response variable into two different dataframes"
      ],
      "metadata": {
        "id": "Fhig-YINwrKz"
      }
    },
    {
      "cell_type": "code",
      "source": [
        "df_autodata['horsepower'].fillna(df_autodata['horsepower'].median(),inplace=True)\n",
        "#Drop 'carname' variable\n",
        "df_autodata.drop(['carname'],axis=1,inplace=True)\n",
        "\n"
      ],
      "metadata": {
        "id": "GdZLFuST8u0v"
      },
      "execution_count": 17,
      "outputs": []
    },
    {
      "cell_type": "code",
      "source": [
        "# Create feature and response variables\n",
        "\n",
        "X=df_autodata.iloc[:,1:8]\n",
        "Y=df_autodata.iloc[:,0]\n",
        "X=np.array(X)\n",
        "Y=np.array(Y)\n"
      ],
      "metadata": {
        "id": "we5pulO209zv"
      },
      "execution_count": 18,
      "outputs": []
    },
    {
      "cell_type": "markdown",
      "source": [
        "#####We'll split the dataset into K consecutive folds (without shuffling by default) with K=10:"
      ],
      "metadata": {
        "id": "mJ_zbBTP6Pj0"
      }
    },
    {
      "cell_type": "code",
      "source": [
        "kfoldcv = KFold(n_splits=10)\n",
        "kf_ytests = []\n",
        "kf_predictedvalues = []\n",
        "mean_mse = 0.0\n",
        "\n",
        "for train_index, test_index in kfoldcv.split(X):\n",
        "    X_train, X_test = X[train_index], X[test_index] \n",
        "    Y_train, Y_test = Y[train_index], Y[test_index]\n",
        "    \n",
        "    model = LinearRegression()\n",
        "    model.fit(X_train, Y_train) \n",
        "    Y_pred = model.predict(X_test)\n",
        "        \n",
        "    # there is only one y-test and y-pred per iteration over the kfoldcv.split, \n",
        "    # so we append them to the respective lists.\n",
        "        \n",
        "    kf_ytests += list(Y_test)\n",
        "    kf_predictedvalues += list(Y_pred)\n",
        "    mse = mean_squared_error(kf_ytests, kf_predictedvalues)\n",
        "    r2score = r2_score(kf_ytests, kf_predictedvalues)\n",
        "    print(\"R^2: {:.2f}, MSE: {:.2f}\".format(r2score, mse))\n",
        "    mean_mse += mse   "
      ],
      "metadata": {
        "colab": {
          "base_uri": "https://localhost:8080/"
        },
        "id": "4h61m7Lu-YW3",
        "outputId": "f1d97d2a-05a2-4a8a-9bf3-647d9b2fd45e"
      },
      "execution_count": 22,
      "outputs": [
        {
          "output_type": "stream",
          "name": "stdout",
          "text": [
            "R^2: 0.68, MSE: 8.96\n",
            "R^2: 0.73, MSE: 9.10\n",
            "R^2: 0.69, MSE: 9.90\n",
            "R^2: 0.72, MSE: 9.47\n",
            "R^2: 0.75, MSE: 8.50\n",
            "R^2: 0.77, MSE: 8.32\n",
            "R^2: 0.75, MSE: 9.83\n",
            "R^2: 0.77, MSE: 10.13\n",
            "R^2: 0.78, MSE: 12.59\n",
            "R^2: 0.79, MSE: 12.85\n"
          ]
        }
      ]
    },
    {
      "cell_type": "markdown",
      "source": [
        "We can look at our coefficient of determination using r2_score() and the mean squared error using mse():"
      ],
      "metadata": {
        "id": "DZfztI_tAFWj"
      }
    },
    {
      "cell_type": "code",
      "source": [
        "print(\"Average CV score :\",mean_mse/10)"
      ],
      "metadata": {
        "id": "Co9qf7bqxDyn",
        "colab": {
          "base_uri": "https://localhost:8080/"
        },
        "outputId": "b1611900-a6a5-492a-f274-a3f3b1f5f814"
      },
      "execution_count": 23,
      "outputs": [
        {
          "output_type": "stream",
          "name": "stdout",
          "text": [
            "Average CV score : 9.96285298183744\n"
          ]
        }
      ]
    },
    {
      "cell_type": "code",
      "source": [
        "## Let us plot the model\n",
        "plt.scatter(kf_ytests, kf_predictedvalues)\n",
        "plt.xlabel('Reported mpg')\n",
        "plt.ylabel('Predicted mpg')"
      ],
      "metadata": {
        "colab": {
          "base_uri": "https://localhost:8080/",
          "height": 296
        },
        "id": "dq9Urdj81UvE",
        "outputId": "ed3ece26-338a-4cdc-a595-8e8fa81c8255"
      },
      "execution_count": 24,
      "outputs": [
        {
          "output_type": "execute_result",
          "data": {
            "text/plain": [
              "Text(0, 0.5, 'Predicted mpg')"
            ]
          },
          "metadata": {},
          "execution_count": 24
        },
        {
          "output_type": "display_data",
          "data": {
            "text/plain": [
              "<Figure size 432x288 with 1 Axes>"
            ],
            "image/png": "[encoded data removed]"
          },
          "metadata": {
            "needs_background": "light"
          }
        }
      ]
    }
  ]
}